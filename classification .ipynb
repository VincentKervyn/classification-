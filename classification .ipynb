import numpy as np 
import pandas as pd 
import matplotlib.pyplot as plt
import seaborn as sns
import plotly

data = pd.read_csv('BankChurners.csv')
data.head()from pandas_profiling import ProfileReport

# profile = ProfileReport(data, title="Pandas Profiling Report", explorative=True)
# profile.to_notebook_iframe()

data2 = data.iloc[: , :-2]
data2.head()

profile = ProfileReport(data2, title="Pandas Profiling Report", explorative=True)
profile.to_notebook_iframe()


///

import numpy as np 
import pandas as pd 
import matplotlib.pyplot as plt
import seaborn as sns
import plotly

data = pd.read_csv('BankChurners.csv')
data.head()

from pandas_profiling import ProfileReport
# profile = ProfileReport(data, title="Pandas Profiling Report", explorative=True)
# profile.to_notebook_iframe()

data2 = data.iloc[: , :-2]
data2.head()

profile = ProfileReport(data2, title="Pandas Profiling Report", explorative=True)
profile.to_notebook_iframe()

from plotly.subplots import make_subplots
import plotly.graph_objs as go

fig = make_subplots(rows=2, cols=1)

tr1=go.Box(x=data2['Customer_Age'],name='Age Box Plot',boxmean=True)
tr2=go.Histogram(x=data2['Customer_Age'],name='Age Histogram')

fig.add_trace(tr1,row=1,col=1)
fig.add_trace(tr2,row=2,col=1)

fig.update_xaxes(tick0=0.0, dtick=5)
fig.update_xaxes(range=[0, 75], row=1, col=1)
fig.update_xaxes(title_text="yaxis 2 title", range=[0, 75], row=2, col=1)

fig.update_xaxes(nticks=15)
fig.update_layout(height=700, width=1200, title_text="Distribution of Customer Ages")
fig.show()


import plotly.express as px

c_data = data2

fig = make_subplots(
    rows=2, cols=2,subplot_titles=('','<b>Platinum Card Holders','<b>Blue Card Holders<b>','Residuals'),
    vertical_spacing=0.09,
    specs=[[{"type": "pie","rowspan": 2}       ,{"type": "pie"}] ,
           [None                               ,{"type": "pie"}]            ,                                      
          ]
)

fig.add_trace(
    go.Pie(values=c_data.Gender.value_counts().values,labels=['<b>Female<b>','<b>Male<b>'],hole=0.3,pull=[0,0.3]),
    row=1, col=1
)

fig.add_trace(
    go.Pie(
        labels=['Female Platinum Card Holders','Male Platinum Card Holders'],
        values=c_data.query('Card_Category=="Platinum"').Gender.value_counts().values,
        pull=[0,0.05,0.5],
        hole=0.3
        
    ),
    row=1, col=2
)

fig.add_trace(
    go.Pie(
        labels=['Female Blue Card Holders','Male Blue Card Holders'],
        values=c_data.query('Card_Category=="Blue"').Gender.value_counts().values,
        pull=[0,0.2,0.5],
        hole=0.3
    ),
    row=2, col=2
)



fig.update_layout(
    height=800,
    showlegend=True,
    title_text="<b>Distribution Of Gender And Different Card Statuses<b>",
)

fig.show()

fig = px.bar(data2, x="Income_Category", y="Card_Category", color="Card_Category", barmode="group")


fig.show()

fig = go.Figure(data=[go.Bar(
            x=data2.Income_Category, y=data2.Card_Category,
            text=data2.Card_Category,
            textposition='auto',
        )])
fig.show()




import plotly.express as ex
ex.pie(c_data,names='Card_Category',title='Propotion Of Different Card Categories',hole=0.33)



val = pd.DataFrame(data2.groupby(["Income_Category"])["Attrition_Flag"].value_counts())
val.head()


tt= val.plot.hist()

plt.show();



fig = ex.histogram (c_data,x='Attrition_Flag',title='Proportion of churn vs not churn customers', 
                    color ='Income_Category', 
                    barmode= 'group',
                    category_orders = {'Income_Category':['Less than 40K','40K-', '60K-', '80K-','120K+', 'Unknown' ]}
#                     text= val
                   ) 
                 



fig.show()


attri = data['Attrition_Flag'].value_counts()
attri

attrit_count = pd.DataFrame(data2.groupby(["Marital_Status"])["Attrition_Flag"].value_counts())
attrit_count
                


Marital_st = ['Divorced', 'Divorced', 'Married', 'Married', 'Single', 'Single', 'Unknown', 'Unknown']
Client_st = ['Existing', 'Attrited','Existing', 'Attrited','Existing', 'Attrited','Existing', 'Attrited']
scores =    [627       ,  121      ,3978     ,709        ,3275      ,668        ,620      ,129]

Attrit_count= pd.DataFrame(dict(Marital_st = Marital_st, Client_st =Client_st, scores= scores ))
                           
Attrit_count['all']= 'all'
              
fig = px.treemap(Attrit_count,
    path = ['all','Client_st', "Marital_st", ],
    values = "scores"
)

fig.update_traces(root_color="lightgrey", textinfo= 'label+value+percent parent+percent entry')
fig.update_layout(margin = dict(t=50, l=25, r=25, b=25))
fig.show();

Marital_st = ['Divorced', 'Divorced', 'Married', 'Married', 'Single', 'Single', 'Unknown', 'Unknown']
Client_st = ['Existing', 'Attrited','Existing', 'Attrited','Existing', 'Attrited','Existing', 'Attrited']
scores =    [627       ,  121      ,3978     ,709        ,3275      ,668        ,620      ,129]

Attrit_count= pd.DataFrame(dict(Marital_st = Marital_st, Client_st =Client_st, scores= scores ))
                           
Attrit_count['all']= 'all'
              
fig = px.treemap(Attrit_count,
    path = ['all',"Marital_st", 'Client_st'],
    values = "scores"
)

fig.update_traces(root_color="lightgrey", textinfo= 'label+value+percent parent+percent entry')
fig.update_layout(margin = dict(t=50, l=25, r=25, b=25))
fig.show();


### Preprocessing 

data2.Attrition_Flag = data2.Attrition_Flag.replace({'Attrited Customer':1,'Existing Customer':0})
data2.Gender = data2.Gender.replace({'F':1,'M':0})
data2 = pd.concat([data2,pd.get_dummies(data2['Education_Level'], prefix = 'Education_')],axis=1)
data2 = pd.concat([data2,pd.get_dummies(data2['Income_Category'], prefix = 'Income_')],axis=1)
data2 = pd.concat([data2,pd.get_dummies(data2['Marital_Status'], prefix = 'Marital_')],axis=1)
data2 = pd.concat([data2,pd.get_dummies(data2['Card_Category'])],axis=1)
data2.drop(columns = ['Education_Level','Income_Category','Marital_Status','Card_Category','CLIENTNUM'],inplace=True)

data2.head()

profile = ProfileReport(data2, title="Pandas Profiling Report", explorative=True)
profile.to_notebook_iframe()

# corr beforesampling

fig = make_subplots(rows=2, cols=1,shared_xaxes=True,subplot_titles=('Perason Correaltion',  'Spearman Correaltion'))
colorscale=     [[1.0              , "rgb(165,0,38)"],
                [0.8888888888888888, "rgb(215,48,39)"],
                [0.7777777777777778, "rgb(244,109,67)"],
                [0.6666666666666666, "rgb(253,174,97)"],
                [0.5555555555555556, "rgb(254,224,144)"],
                [0.4444444444444444, "rgb(224,243,248)"],
                [0.3333333333333333, "rgb(171,217,233)"],
                [0.2222222222222222, "rgb(116,173,209)"],
                [0.1111111111111111, "rgb(69,117,180)"],
                [0.0               , "rgb(49,54,149)"]]

s_val =data2.corr('pearson')
mask = np.zeros_like(s_val, dtype = bool)
mask[np.triu_indices_from(mask)] = True
s_val[mask] = np.nan
s_idx = s_val.index
s_col = s_val.columns
s_val = s_val.values
fig.add_trace(
    go.Heatmap(x=s_col,y=s_idx,z=s_val,name='pearson',showscale=False,xgap=1,ygap=1,colorscale=colorscale),
    row=1, col=1
)


s_val = data2.corr('spearman')
mask = np.zeros_like(s_val, dtype = bool)
mask[np.triu_indices_from(mask)] = True
s_val[mask] = np.nan

s_idx = s_val.index
s_col = s_val.columns
s_val = s_val.values
fig.add_trace(
    go.Heatmap(x=s_col,y=s_idx,z=s_val,xgap=1,ygap=1,colorscale=colorscale),
    row=2, col=1
)
fig.update_layout(
    hoverlabel=dict(
        bgcolor="white",
        font_size=10,
        font_family="Rockwell"
    )
)
fig.update_layout(height=1800, width=900, title_text="Upsmapled Correlations")
fig.show()

### Data Upsampling


from imblearn.over_sampling import SMOTE

oversample = SMOTE()
X, y = oversample.fit_resample(data2[data2.columns[1:]], data2[data2.columns[0]])
usampled_df = X.assign(Churn = y)

X

y

ohe_data.head()

ohe_data =usampled_df[usampled_df.columns[15:-1]].copy()

usampled_df = usampled_df.drop(columns=usampled_df.columns[15:-1])

usampled_df.head()


fig = make_subplots(rows=2, cols=1,shared_xaxes=True,subplot_titles=('Perason Correaltion over sample',
                                                                     'Spearman Correaltion over sample'))
colorscale=     [[1.0              , "rgb(165,0,38)"],
                [0.8888888888888888, "rgb(215,48,39)"],
                [0.7777777777777778, "rgb(244,109,67)"],
                [0.6666666666666666, "rgb(253,174,97)"],
                [0.5555555555555556, "rgb(254,224,144)"],
                [0.4444444444444444, "rgb(224,243,248)"],
                [0.3333333333333333, "rgb(171,217,233)"],
                [0.2222222222222222, "rgb(116,173,209)"],
                [0.1111111111111111, "rgb(69,117,180)"],
                [0.0               , "rgb(49,54,149)"]]

s_val =usampled_df.corr('pearson')
mask = np.zeros_like(s_val, dtype = bool)
mask[np.triu_indices_from(mask)] = True
s_val[mask] = np.nan

s_idx = s_val.index
s_col = s_val.columns
s_val = s_val.values
fig.add_trace(
    go.Heatmap(x=s_col,y=s_idx,z=s_val,name='pearson',showscale=False,xgap=1,ygap=1,colorscale=colorscale),
    row=1, col=1
)


s_val = usampled_df.corr('spearman')
mask = np.zeros_like(s_val, dtype = bool)
mask[np.triu_indices_from(mask)] = True
s_val[mask] = np.nan

s_idx = s_val.index
s_col = s_val.columns
s_val = s_val.values
fig.add_trace(
    go.Heatmap(x=s_col,y=s_idx,z=s_val,xgap=1,ygap=1,colorscale=colorscale),
    row=2, col=1
)
fig.update_layout(
    hoverlabel=dict(
        bgcolor="white",
        font_size=16,
        font_family="Rockwell"
    )
)


fig.update_layout(height=900, width=900, title_text="Upsmapled Correlations")
fig.show()

### Principal Component Analysis

from sklearn.decomposition import PCA

N_COMPONENTS = 4

pca_model = PCA(n_components = N_COMPONENTS )

pc_matrix = pca_model.fit_transform(ohe_data)
evr = pca_model.explained_variance_ratio_
total_var = evr.sum() * 100
cumsum_evr = np.cumsum(evr)


trace1 = {
    "name": "individual explained variance", 
    "type": "bar", 
    'y':evr}
trace2 = {
    "name": "cumulative explained variance", 
    "type": "scatter", 
     'y':cumsum_evr}
data = [trace1, trace2]
layout = {
    "xaxis": {"title": "Principal components"}, 
    "yaxis": {"title": "Explained variance ratio"},
  }
fig = go.Figure(data=data, layout=layout)
fig.update_layout(     title='Explained Variance Using {} Dimensions'.format(N_COMPONENTS))
fig.show()

usampled_df_with_pcs = pd.concat([usampled_df,
                                  pd.DataFrame(pc_matrix,columns=['PC-{}'.format(i) for i in range(0,N_COMPONENTS)])],axis=1)


fig = make_subplots(rows=2, cols=1,shared_xaxes=True,subplot_titles=('Perason Correaltion',  'Spearman Correaltion'))


s_val =usampled_df_with_pcs.corr('pearson')

mask = np.zeros_like(s_val, dtype = bool)
mask[np.triu_indices_from(mask)] = True
s_val[mask] = np.nan

s_idx = s_val.index
s_col = s_val.columns
s_val = s_val.values
fig.add_trace(
    go.Heatmap(x=s_col,y=s_idx,z=s_val,name='pearson',showscale=False,xgap=1,ygap=1,colorscale=colorscale),
    row=1, col=1
)


s_val =usampled_df_with_pcs.corr('spearman')

mask = np.zeros_like(s_val, dtype = bool)
mask[np.triu_indices_from(mask)] = True
s_val[mask] = np.nan

s_idx = s_val.index
s_col = s_val.columns
s_val = s_val.values
fig.add_trace(
    go.Heatmap(x=s_col,y=s_idx,z=s_val,xgap=1,ygap=1,colorscale=colorscale),
    row=2, col=1
)
fig.update_layout(
    hoverlabel=dict(
        bgcolor="white",
        font_size=16,
        font_family="Rockwell"
    )
)
fig.update_layout(height=700, width=900, title_text="Upsmapled Correlations With PC\'s")
fig.show()

## Model Selection 

X_features = ['Total_Trans_Ct','PC-3','PC-1','PC-0','PC-2','Total_Ct_Chng_Q4_Q1','Total_Relationship_Count']

X = usampled_df_with_pcs[X_features]
y = usampled_df_with_pcs['Churn']


from sklearn.model_selection import train_test_split,cross_val_score

train_x,test_x,train_y,test_y = train_test_split(X,y,random_state=20)



from sklearn.ensemble import RandomForestClassifier,AdaBoostClassifier
from sklearn.svm import SVC
from sklearn.pipeline import Pipeline
from sklearn.preprocessing import StandardScaler
from sklearn.metrics import f1_score as f1
from sklearn.metrics import confusion_matrix


rf_pipe = Pipeline(steps =[ ('scale',StandardScaler()), ("RF",RandomForestClassifier(random_state=20)) ])
ada_pipe = Pipeline(steps =[ ('scale',StandardScaler()), ("RF",AdaBoostClassifier(random_state=20,learning_rate=0.7)) ])
svm_pipe = Pipeline(steps =[ ('scale',StandardScaler()), ("RF",SVC(random_state=20,kernel='rbf')) ])


f1_cross_val_scores = cross_val_score(rf_pipe,train_x,train_y,cv=10,scoring='f1')
ada_f1_cross_val_scores=cross_val_score(ada_pipe,train_x,train_y,cv=10,scoring='f1')
svm_f1_cross_val_scores=cross_val_score(svm_pipe,train_x,train_y,cv=10,scoring='f1')

fig = make_subplots(rows=3, cols=1,shared_xaxes=True,subplot_titles=('Random Forest Cross Val Scores',
                                                                     'Adaboost Cross Val Scores',
                                                                    'SVM Cross Val Scores'))

fig.add_trace(
    go.Scatter(x=list(range(0,len(f1_cross_val_scores))),y=f1_cross_val_scores,name='Random Forest'),
    row=1, col=1
)
fig.add_trace(
    go.Scatter(x=list(range(0,len(ada_f1_cross_val_scores))),y=ada_f1_cross_val_scores,name='Adaboost'),
    row=2, col=1
)
fig.add_trace(
    go.Scatter(x=list(range(0,len(svm_f1_cross_val_scores))),y=svm_f1_cross_val_scores,name='SVM'),
    row=3, col=1
)

fig.update_layout(height=700, width=900, title_text="Different Model 10 Fold Cross Validation")
fig.update_yaxes(title_text="F1 Score")
fig.update_xaxes(title_text="Fold #")

fig.show()

 ## Model Evaluation 
 

rf_pipe.fit(train_x,train_y)
rf_prediction = rf_pipe.predict(test_x)

ada_pipe.fit(train_x,train_y)
ada_prediction = ada_pipe.predict(test_x)

svm_pipe.fit(train_x,train_y)
svm_prediction = svm_pipe.predict(test_x)

fig = go.Figure(data=[go.Table(header=dict(values=['<b>Model<b>', '<b>F1 Score On Test Data<b>'],
                                           line_color='darkslategray',
    fill_color='whitesmoke',
    align=['center','center'],
    font=dict(color='black', size=18),
    height=40),
                               
                 cells=dict(values=[['<b>Random Forest<b>', '<b>AdaBoost<b>','<b>SVM<b>'],
                                    [np.round(f1(rf_prediction,test_y),2),
                                     np.round(f1(ada_prediction,test_y),2),
                                     np.round(f1(svm_prediction,test_y),2)]]))
                     ])

fig.update_layout(title='Model Results On Test Data')
fig.show()

## Model Evaluation On Original Data (Before Upsampling)


ohe_data =c_data[c_data.columns[16:]].copy()
pc_matrix = pca_model.fit_transform(ohe_data)
original_df_with_pcs = pd.concat([c_data,pd.DataFrame(pc_matrix,columns=['PC-{}'.format(i) for i in range(0,N_COMPONENTS)])],axis=1)

unsampled_data_prediction_RF = rf_pipe.predict(original_df_with_pcs[X_features])
unsampled_data_prediction_ADA = ada_pipe.predict(original_df_with_pcs[X_features])
unsampled_data_prediction_SVM = svm_pipe.predict(original_df_with_pcs[X_features])

fig = go.Figure(data=[go.Table(header=dict(values=['<b>Model<b>', '<b>F1 Score On Original Data (Before Upsampling)<b>'],
                                           line_color='darkslategray',
    fill_color='whitesmoke',
    align=['center','center'],
    font=dict(color='black', size=18),
    height=40),
                               
                 cells=dict(values=[['<b>Random Forest<b>', '<b>AdaBoost<b>','<b>SVM<b>'], [np.round(f1(unsampled_data_prediction_RF,original_df_with_pcs['Attrition_Flag']),2), 
                                                                          np.round(f1(unsampled_data_prediction_ADA,original_df_with_pcs['Attrition_Flag']),2),
                                                                          np.round(f1(unsampled_data_prediction_SVM,original_df_with_pcs['Attrition_Flag']),2)]]))
                     ])

fig.update_layout(title='Model Result On Original Data (Without Upsampling)')
fig.show()

import plotly.figure_factory as ff

z=confusion_matrix(unsampled_data_prediction_RF,original_df_with_pcs['Attrition_Flag'])
fig = ff.create_annotated_heatmap(z, x=['Not Churn','Churn'], y=['Predicted Not Churn','Predicted Churn'], colorscale='gnbu',xgap=3,ygap=3)
fig['data'][0]['showscale'] = True
fig.update_layout(title='Prediction On Original Data With Random Forest Model Confusion Matrix')
fig.show()

import scikitplot as skplt

unsampled_data_prediction_RF = rf_pipe.predict_proba(original_df_with_pcs[X_features])
skplt.metrics.plot_precision_recall(original_df_with_pcs['Attrition_Flag'], unsampled_data_prediction_RF)
plt.legend(prop={'size': 20})
plt.show()

y_probas = rf_prediction
# skplt.metrics.plot_roc(
#  test_y, y_probas, title="Roc Curve for XBG Classifier",
#  figsize=(10, 8))



